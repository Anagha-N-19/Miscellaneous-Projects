{
 "cells": [
  {
   "cell_type": "code",
   "execution_count": 1,
   "id": "bc645348",
   "metadata": {},
   "outputs": [],
   "source": [
    "import numpy as np\n",
    "import pandas as pd\n",
    "import matplotlib.pyplot as plt\n",
    "import seaborn as sns\n",
    "%matplotlib inline"
   ]
  },
  {
   "cell_type": "code",
   "execution_count": 2,
   "id": "e2c5c87d",
   "metadata": {},
   "outputs": [],
   "source": [
    "df = pd.read_csv('dataset.csv')"
   ]
  },
  {
   "cell_type": "code",
   "execution_count": 3,
   "id": "bd565c47",
   "metadata": {},
   "outputs": [
    {
     "data": {
      "text/html": [
       "<div>\n",
       "<style scoped>\n",
       "    .dataframe tbody tr th:only-of-type {\n",
       "        vertical-align: middle;\n",
       "    }\n",
       "\n",
       "    .dataframe tbody tr th {\n",
       "        vertical-align: top;\n",
       "    }\n",
       "\n",
       "    .dataframe thead th {\n",
       "        text-align: right;\n",
       "    }\n",
       "</style>\n",
       "<table border=\"1\" class=\"dataframe\">\n",
       "  <thead>\n",
       "    <tr style=\"text-align: right;\">\n",
       "      <th></th>\n",
       "      <th>Gender</th>\n",
       "      <th>Age Range</th>\n",
       "      <th>Head Size(cm^3)</th>\n",
       "      <th>Brain Weight(grams)</th>\n",
       "    </tr>\n",
       "  </thead>\n",
       "  <tbody>\n",
       "    <tr>\n",
       "      <th>0</th>\n",
       "      <td>1</td>\n",
       "      <td>1</td>\n",
       "      <td>4512</td>\n",
       "      <td>1530</td>\n",
       "    </tr>\n",
       "    <tr>\n",
       "      <th>1</th>\n",
       "      <td>1</td>\n",
       "      <td>1</td>\n",
       "      <td>3738</td>\n",
       "      <td>1297</td>\n",
       "    </tr>\n",
       "    <tr>\n",
       "      <th>2</th>\n",
       "      <td>1</td>\n",
       "      <td>1</td>\n",
       "      <td>4261</td>\n",
       "      <td>1335</td>\n",
       "    </tr>\n",
       "    <tr>\n",
       "      <th>3</th>\n",
       "      <td>1</td>\n",
       "      <td>1</td>\n",
       "      <td>3777</td>\n",
       "      <td>1282</td>\n",
       "    </tr>\n",
       "    <tr>\n",
       "      <th>4</th>\n",
       "      <td>1</td>\n",
       "      <td>1</td>\n",
       "      <td>4177</td>\n",
       "      <td>1590</td>\n",
       "    </tr>\n",
       "  </tbody>\n",
       "</table>\n",
       "</div>"
      ],
      "text/plain": [
       "   Gender  Age Range  Head Size(cm^3)  Brain Weight(grams)\n",
       "0       1          1             4512                 1530\n",
       "1       1          1             3738                 1297\n",
       "2       1          1             4261                 1335\n",
       "3       1          1             3777                 1282\n",
       "4       1          1             4177                 1590"
      ]
     },
     "execution_count": 3,
     "metadata": {},
     "output_type": "execute_result"
    }
   ],
   "source": [
    "df.head()"
   ]
  },
  {
   "cell_type": "code",
   "execution_count": 4,
   "id": "5b5211f7",
   "metadata": {},
   "outputs": [
    {
     "data": {
      "text/plain": [
       "Index(['Gender', 'Age Range', 'Head Size(cm^3)', 'Brain Weight(grams)'], dtype='object')"
      ]
     },
     "execution_count": 4,
     "metadata": {},
     "output_type": "execute_result"
    }
   ],
   "source": [
    "df.columns"
   ]
  },
  {
   "cell_type": "code",
   "execution_count": 5,
   "id": "ea8e6501",
   "metadata": {},
   "outputs": [],
   "source": [
    "X = df['Head Size(cm^3)']\n",
    "y = df['Brain Weight(grams)']"
   ]
  },
  {
   "cell_type": "code",
   "execution_count": 6,
   "id": "b45420ae",
   "metadata": {},
   "outputs": [
    {
     "name": "stdout",
     "output_type": "stream",
     "text": [
      "3633.9915611814345\n"
     ]
    }
   ],
   "source": [
    "xm = np.mean(X)\n",
    "print(xm)"
   ]
  },
  {
   "cell_type": "code",
   "execution_count": 7,
   "id": "43f1ed44",
   "metadata": {},
   "outputs": [],
   "source": [
    "ym = np.mean(y)"
   ]
  },
  {
   "cell_type": "code",
   "execution_count": 8,
   "id": "83de2af4",
   "metadata": {},
   "outputs": [],
   "source": [
    "n = 0\n",
    "d = 0"
   ]
  },
  {
   "cell_type": "code",
   "execution_count": 9,
   "id": "b137b4c5",
   "metadata": {},
   "outputs": [],
   "source": [
    "for i in range(0, len(X)):\n",
    "    n += (X[i] - xm)*(y[i] - ym)\n",
    "    d += (X[i] - xm) ** 2"
   ]
  },
  {
   "cell_type": "code",
   "execution_count": 10,
   "id": "9e16d8e2",
   "metadata": {},
   "outputs": [],
   "source": [
    "m = n/d\n",
    "c = ym - m * xm"
   ]
  },
  {
   "cell_type": "code",
   "execution_count": 11,
   "id": "b7768b40",
   "metadata": {},
   "outputs": [],
   "source": [
    "x_max = np.max(X)\n",
    "x_min = np.min(X)"
   ]
  },
  {
   "cell_type": "code",
   "execution_count": 13,
   "id": "7d2578f8",
   "metadata": {},
   "outputs": [],
   "source": [
    "xvals = np.linspace(x_max, x_min, 100)\n",
    "yvals = m*xvals + c"
   ]
  },
  {
   "cell_type": "code",
   "execution_count": 16,
   "id": "bfbd1e84",
   "metadata": {},
   "outputs": [
    {
     "data": {
      "image/png": "[encoded data removed]",
      "text/plain": [
       "<Figure size 640x480 with 1 Axes>"
      ]
     },
     "metadata": {},
     "output_type": "display_data"
    }
   ],
   "source": [
    "plt.plot(xvals, yvals, color = 'navy')\n",
    "plt.scatter(X, y, color = 'darkorange')\n",
    "plt.show()"
   ]
  },
  {
   "cell_type": "code",
   "execution_count": 17,
   "id": "6492fd2d",
   "metadata": {},
   "outputs": [],
   "source": [
    "rmse_value = 0\n",
    "for i in range(0, len(X)):\n",
    "    pred = m*X[i] + c\n",
    "    rmse_value += (y[i] - pred) ** 2\n",
    "rmse_value = np.sqrt(rmse_value / len(X))"
   ]
  },
  {
   "cell_type": "code",
   "execution_count": 18,
   "id": "48b2e898",
   "metadata": {},
   "outputs": [
    {
     "name": "stdout",
     "output_type": "stream",
     "text": [
      "72.1206213783709\n"
     ]
    }
   ],
   "source": [
    "print(rmse_value)"
   ]
  },
  {
   "cell_type": "code",
   "execution_count": null,
   "id": "0f910ece",
   "metadata": {},
   "outputs": [],
   "source": []
  }
 ],
 "metadata": {
  "kernelspec": {
   "display_name": "Python 3 (ipykernel)",
   "language": "python",
   "name": "python3"
  },
  "language_info": {
   "codemirror_mode": {
    "name": "ipython",
    "version": 3
   },
   "file_extension": ".py",
   "mimetype": "text/x-python",
   "name": "python",
   "nbconvert_exporter": "python",
   "pygments_lexer": "ipython3",
   "version": "3.10.7"
  }
 },
 "nbformat": 4,
 "nbformat_minor": 5
}
